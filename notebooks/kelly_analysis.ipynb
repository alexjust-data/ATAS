{
 "cells": [
  {
   "cell_type": "markdown",
   "id": "0ec8c5e9",
   "metadata": {},
   "source": [
    "He creado `core/kelly_analysis.py` con las siguientes funciones clave:\n",
    "\n",
    "1. `simular_trayectorias_monte_carlo(...)`\n",
    "   → genera curvas de equity aleatorias usando Kelly.\n",
    "\n",
    "2. `calcular_expected_shortfall(...)`\n",
    "   → calcula el Expected Shortfall (CVaR) al nivel que indiques (por defecto 5 %).\n",
    "\n",
    "3. `test_validacion_binomial(...)`\n",
    "   → realiza un test binomial clásico para validar si el win-rate observado es coherente con el teórico.\n",
    "\n",
    "4. `resumen_simulacion(...)`\n",
    "   → devuelve percentiles y estadísticas descriptivas sobre los resultados de las trayectorias."
   ]
  },
  {
   "cell_type": "code",
   "execution_count": 2,
   "id": "c551b10e",
   "metadata": {},
   "outputs": [
    {
     "name": "stderr",
     "output_type": "stream",
     "text": [
      "INFO: 📦 Total trades cargados: 62\n",
      "INFO: 💾 Datos guardados en PostgreSQL (trades).\n",
      "INFO: ✅ Procesados 62 trades en total.\n"
     ]
    },
    {
     "name": "stdout",
     "output_type": "stream",
     "text": [
      "✅ Todos los chequeos de integridad superados\n",
      "\n",
      "Trades totales : 53\n",
      "Número de trades fragmentados: 5\n",
      "Win-rate       : 0.5283018867924528\n",
      "Profit factor  : 1.37227478403949\n",
      "Drawdown máx % : 0.2973262032085562\n",
      "Total PnL_net   : 226.25\n",
      "Última equity   : 645.25\n"
     ]
    }
   ],
   "source": [
    "# setup.py (o bien en la primera celda de cada notebook)\n",
    "import sys\n",
    "from pathlib import Path\n",
    "\n",
    "# Ajusta según la ubicación del notebook respecto a la carpeta del proyecto\n",
    "project_root = Path(\"..\").resolve()  # sube un nivel si estás en /notebooks\n",
    "if str(project_root) not in sys.path:\n",
    "    sys.path.append(str(project_root))\n",
    "    \n",
    "\n",
    "# Importa las funciones necesarias desde el módulo core\n",
    "from core import process_new_files, daily_summary_from_hist   \n",
    "# 1️⃣  Primero cargas tu DataFrame y lo dejas en el namespace global\n",
    "df_raw = process_new_files( # te pedirá el capital inicial en ventana emergente\n",
    "    merge_fragments=False, \n",
    "    verbose=True)\n",
    "\n",
    "# QA : Quality Assurance\n",
    "from core.qa import check_integrity\n",
    "check_integrity(df_raw)\n",
    "\n",
    "\n",
    "from core.merger import merge_split_trades\n",
    "df = merge_split_trades(df_raw)\n",
    "\n",
    "\n",
    "# Métricas globales rápidas\n",
    "df_summary = daily_summary_from_hist(df)\n",
    "\n",
    "total_fragmented = df[\"components\"].apply(len).gt(1).sum() if \"components\" in df.columns else 0\n",
    "\n",
    "print(\"\\nTrades totales :\", len(df))\n",
    "print(f\"Número de trades fragmentados: {total_fragmented}\")\n",
    "print(\"Win-rate       :\", (df['PnL_net'] > 0).mean())\n",
    "print(\"Profit factor  :\", df.loc[df['PnL_net'] > 0, 'PnL_net'].sum() /\n",
    "                          df.loc[df['PnL_net'] < 0, 'PnL_net'].abs().sum())\n",
    "print(\"Drawdown máx % :\", 1 - df['equity'].div(df['equity'].cummax()).min())\n",
    "print(\"Total PnL_net   :\", df['PnL_net'].sum())\n",
    "print(\"Última equity   :\", df['equity'].iloc[-1])\n"
   ]
  },
  {
   "cell_type": "code",
   "execution_count": 3,
   "id": "57f1bb6f",
   "metadata": {},
   "outputs": [
    {
     "name": "stdout",
     "output_type": "stream",
     "text": [
      "P = 0.5283  R = 1.23  meta = {'wins': 28, 'losses': 25, 'p_mean': np.float64(0.5283018867924528), 'r_mean': np.float64(1.2252453428924017)}\n"
     ]
    },
    {
     "name": "stdout",
     "output_type": "stream",
     "text": [
      "Resumen: {'p05': 189.00561011145757, 'p25': 670.2534030572355, 'p50': 2376.8586765487275, 'p75': 6142.23756201655, 'p95': 29890.42052748302, 'mean': 7498.633586266826, 'std': 19963.608242240316, 'min': 4.238202445416743, 'max': 707852.6403924761}\n",
      "CVaR 5 %: 102.78 (p5 = 189.01)\n",
      "P-valor binomial: 1.0000\n"
     ]
    }
   ],
   "source": [
    "# 1️⃣  Empuja df al namespace global (como ya hacías)\n",
    "import types, sys\n",
    "mod = types.ModuleType(\"core.global_state\")\n",
    "mod.df = df\n",
    "sys.modules[\"core.global_state\"] = mod\n",
    "\n",
    "# 2️⃣  Calcula P y R desde df con la nueva función\n",
    "from core.kelly_analysis import (\n",
    "    extraer_parametros_desde_df,\n",
    "    simular_trayectorias_monte_carlo,\n",
    "    calcular_expected_shortfall,\n",
    "    resumen_simulacion,\n",
    "    test_validacion_binomial\n",
    ")\n",
    "\n",
    "P, R, meta = extraer_parametros_desde_df(df)\n",
    "print(f\"P = {P:.4f}  R = {R:.2f}  meta = {meta}\")\n",
    "\n",
    "# 3️⃣  Decide la fracción de Kelly y lanza Monte Carlo\n",
    "from core.kelly_simulator_v4 import calcular_kelly\n",
    "\n",
    "kelly_puro = calcular_kelly(P, R)\n",
    "f = 1.0                    # 100 % de Kelly\n",
    "n_trades = 100\n",
    "paths = 10_000\n",
    "cap0 = df['equity'].iloc[-1]\n",
    "\n",
    "eq = simular_trayectorias_monte_carlo(P, R, kelly_puro * f,\n",
    "                                      cap0=cap0, n=n_trades, n_paths=paths)\n",
    "\n",
    "print(\"Resumen:\", resumen_simulacion(eq))\n",
    "es, p5 = calcular_expected_shortfall(eq)\n",
    "print(f\"CVaR 5 %: {es:.2f} (p5 = {p5:.2f})\")\n",
    "\n",
    "# 4️⃣  Test binomial (opcional, si quieres validar el win-rate)\n",
    "wins = meta['wins']\n",
    "losses = meta['losses']\n",
    "p_val = test_validacion_binomial(wins, losses, p_teorico=P)\n",
    "print(f\"P-valor binomial: {p_val:.4f}\")\n",
    "\n"
   ]
  }
 ],
 "metadata": {
  "kernelspec": {
   "display_name": "trading_env",
   "language": "python",
   "name": "python3"
  },
  "language_info": {
   "codemirror_mode": {
    "name": "ipython",
    "version": 3
   },
   "file_extension": ".py",
   "mimetype": "text/x-python",
   "name": "python",
   "nbconvert_exporter": "python",
   "pygments_lexer": "ipython3",
   "version": "3.11.6"
  }
 },
 "nbformat": 4,
 "nbformat_minor": 5
}
