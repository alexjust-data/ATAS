{
 "cells": [
  {
   "cell_type": "code",
   "execution_count": 1,
   "id": "4571dd8d",
   "metadata": {},
   "outputs": [
    {
     "name": "stderr",
     "output_type": "stream",
     "text": [
      "INFO: 💵 Capital inicial establecido a 419.0$ (persistente en sesión)\n",
      "INFO: 📦 Total trades cargados: 62\n",
      "INFO: 💾 Datos guardados en PostgreSQL (trades).\n",
      "INFO: ✅ Procesados 62 trades en total.\n"
     ]
    },
    {
     "name": "stdout",
     "output_type": "stream",
     "text": [
      "✅ Todos los chequeos de integridad superados\n"
     ]
    }
   ],
   "source": [
    "# setup.py (o bien en la primera celda de cada notebook)\n",
    "import sys\n",
    "from pathlib import Path\n",
    "\n",
    "# Ajusta según la ubicación del notebook respecto a la carpeta del proyecto\n",
    "project_root = Path(\"..\").resolve()  # sube un nivel si estás en /notebooks\n",
    "if str(project_root) not in sys.path:\n",
    "    sys.path.append(str(project_root))\n",
    "    \n",
    "\n",
    "# Importa las funciones necesarias desde el módulo core\n",
    "from core import process_new_files, daily_summary_from_hist   \n",
    "# 1️⃣  Primero cargas tu DataFrame y lo dejas en el namespace global\n",
    "df_raw = process_new_files( # te pedirá el capital inicial en ventana emergente\n",
    "    merge_fragments=False, \n",
    "    verbose=True)\n",
    "\n",
    "# QA : Quality Assurance\n",
    "from core.qa import check_integrity\n",
    "check_integrity(df_raw)"
   ]
  },
  {
   "cell_type": "code",
   "execution_count": 2,
   "id": "ff304e60",
   "metadata": {},
   "outputs": [
    {
     "name": "stderr",
     "output_type": "stream",
     "text": [
      "INFO: 💾 Datos guardados en PostgreSQL (trades).\n"
     ]
    },
    {
     "name": "stdout",
     "output_type": "stream",
     "text": [
      "                                                       0\n",
      "entry_time                           2025-06-09 09:35:35\n",
      "exit_time                            2025-06-09 09:36:00\n",
      "asset                                          MNQM5@CME\n",
      "direction                                            Buy\n",
      "entry_price                                     21770.75\n",
      "exit_price                                      21762.25\n",
      "position_size                                          4\n",
      "PnL                                                -68.0\n",
      "PnL_net                                            -68.0\n",
      "commission                                             0\n",
      "order_id_entry                                   1065580\n",
      "order_id_exit                                    1065612\n",
      "account                                   APEX-298755-19\n",
      "exchange                                             CME\n",
      "source_file       ATAS_statistics_08062025_30062025.xlsx\n",
      "components                                           [1]\n",
      "duration_minutes                                0.416667\n",
      "trade_id                                               1\n",
      "equity                                             351.0\n",
      "n_components                                           1\n",
      "is_fragmented                                      False\n"
     ]
    }
   ],
   "source": [
    "from core.merger import merge_split_trades\n",
    "from core.io_utils import save_to_csv, save_to_postgres\n",
    "from core.summary import daily_summary_from_hist\n",
    "\n",
    "\n",
    "df = merge_split_trades(df_raw)\n",
    "print(df.head(1).T)\n",
    "\n",
    "# 2️⃣  Guardas el DataFrame en un CSV y en Postgres\n",
    "# output/trades_hist.csv\n",
    "save_to_csv(df)\n",
    "save_to_postgres(df)"
   ]
  },
  {
   "cell_type": "code",
   "execution_count": 3,
   "id": "5d75d354",
   "metadata": {},
   "outputs": [
    {
     "name": "stdout",
     "output_type": "stream",
     "text": [
      "\n",
      "Trades totales : 53\n",
      "Número de trades fragmentados: 5\n",
      "Win-rate       : 0.5283018867924528\n",
      "Profit factor  : 1.37227478403949\n",
      "Drawdown máx % : 0.2973262032085562\n",
      "Total PnL_net   : 226.25\n",
      "Última equity   : 645.25\n"
     ]
    },
    {
     "data": {
      "text/html": [
       "<div>\n",
       "<style scoped>\n",
       "    .dataframe tbody tr th:only-of-type {\n",
       "        vertical-align: middle;\n",
       "    }\n",
       "\n",
       "    .dataframe tbody tr th {\n",
       "        vertical-align: top;\n",
       "    }\n",
       "\n",
       "    .dataframe thead th {\n",
       "        text-align: right;\n",
       "    }\n",
       "</style>\n",
       "<table border=\"1\" class=\"dataframe\">\n",
       "  <thead>\n",
       "    <tr style=\"text-align: right;\">\n",
       "      <th></th>\n",
       "      <th>day</th>\n",
       "      <th>total_trades</th>\n",
       "      <th>net_pnl</th>\n",
       "      <th>win_rate</th>\n",
       "      <th>fragmented_trades</th>\n",
       "      <th>fragmented_ids</th>\n",
       "      <th>profit_factor</th>\n",
       "    </tr>\n",
       "  </thead>\n",
       "  <tbody>\n",
       "    <tr>\n",
       "      <th>0</th>\n",
       "      <td>2025-06-09</td>\n",
       "      <td>11</td>\n",
       "      <td>-81.00</td>\n",
       "      <td>0.545455</td>\n",
       "      <td>3</td>\n",
       "      <td>[2, 4, 5]</td>\n",
       "      <td>NaN</td>\n",
       "    </tr>\n",
       "    <tr>\n",
       "      <th>1</th>\n",
       "      <td>2025-06-10</td>\n",
       "      <td>9</td>\n",
       "      <td>204.50</td>\n",
       "      <td>0.555556</td>\n",
       "      <td>1</td>\n",
       "      <td>[13]</td>\n",
       "      <td>NaN</td>\n",
       "    </tr>\n",
       "    <tr>\n",
       "      <th>2</th>\n",
       "      <td>2025-06-11</td>\n",
       "      <td>12</td>\n",
       "      <td>100.75</td>\n",
       "      <td>0.666667</td>\n",
       "      <td>0</td>\n",
       "      <td>[]</td>\n",
       "      <td>NaN</td>\n",
       "    </tr>\n",
       "    <tr>\n",
       "      <th>3</th>\n",
       "      <td>2025-06-12</td>\n",
       "      <td>11</td>\n",
       "      <td>-144.50</td>\n",
       "      <td>0.272727</td>\n",
       "      <td>1</td>\n",
       "      <td>[36]</td>\n",
       "      <td>NaN</td>\n",
       "    </tr>\n",
       "    <tr>\n",
       "      <th>4</th>\n",
       "      <td>2025-06-13</td>\n",
       "      <td>10</td>\n",
       "      <td>146.50</td>\n",
       "      <td>0.600000</td>\n",
       "      <td>0</td>\n",
       "      <td>[]</td>\n",
       "      <td>NaN</td>\n",
       "    </tr>\n",
       "    <tr>\n",
       "      <th>5</th>\n",
       "      <td>TOTAL</td>\n",
       "      <td>53</td>\n",
       "      <td>226.25</td>\n",
       "      <td>0.528302</td>\n",
       "      <td>5</td>\n",
       "      <td>[2, 4, 5, 13, 36]</td>\n",
       "      <td>1.372275</td>\n",
       "    </tr>\n",
       "  </tbody>\n",
       "</table>\n",
       "</div>"
      ],
      "text/plain": [
       "          day  total_trades  net_pnl  win_rate  fragmented_trades  \\\n",
       "0  2025-06-09            11   -81.00  0.545455                  3   \n",
       "1  2025-06-10             9   204.50  0.555556                  1   \n",
       "2  2025-06-11            12   100.75  0.666667                  0   \n",
       "3  2025-06-12            11  -144.50  0.272727                  1   \n",
       "4  2025-06-13            10   146.50  0.600000                  0   \n",
       "5       TOTAL            53   226.25  0.528302                  5   \n",
       "\n",
       "      fragmented_ids  profit_factor  \n",
       "0          [2, 4, 5]            NaN  \n",
       "1               [13]            NaN  \n",
       "2                 []            NaN  \n",
       "3               [36]            NaN  \n",
       "4                 []            NaN  \n",
       "5  [2, 4, 5, 13, 36]       1.372275  "
      ]
     },
     "execution_count": 3,
     "metadata": {},
     "output_type": "execute_result"
    }
   ],
   "source": [
    "# Métricas globales rápidas\n",
    "df_summary = daily_summary_from_hist(df)\n",
    "\n",
    "total_fragmented = df[\"components\"].apply(len).gt(1).sum() if \"components\" in df.columns else 0\n",
    "\n",
    "print(\"\\nTrades totales :\", len(df))\n",
    "print(f\"Número de trades fragmentados: {total_fragmented}\")\n",
    "print(\"Win-rate       :\", (df['PnL_net'] > 0).mean())\n",
    "print(\"Profit factor  :\", df.loc[df['PnL_net'] > 0, 'PnL_net'].sum() /\n",
    "                          df.loc[df['PnL_net'] < 0, 'PnL_net'].abs().sum())\n",
    "print(\"Drawdown máx % :\", 1 - df['equity'].div(df['equity'].cummax()).min())\n",
    "print(\"Total PnL_net   :\", df['PnL_net'].sum())\n",
    "print(\"Última equity   :\", df['equity'].iloc[-1])\n",
    "\n",
    "df_summary"
   ]
  },
  {
   "cell_type": "code",
   "execution_count": 4,
   "id": "440b1072",
   "metadata": {},
   "outputs": [
    {
     "name": "stdout",
     "output_type": "stream",
     "text": [
      "P = 0.5283  \n",
      "R = 1.23  \n",
      "meta = {'wins': 28, 'losses': 25, 'p_mean': np.float64(0.5283018867924528), 'r_mean': np.float64(1.2252453428924017)}\n"
     ]
    },
    {
     "name": "stdout",
     "output_type": "stream",
     "text": [
      "\n",
      "Resumen: {'p05': 189.00561011145757, 'p25': 670.2534030572355, 'p50': 2376.8586765487275, 'p75': 6142.23756201655, 'p95': 29890.42052748302, 'mean': 7498.633586266826, 'std': 19963.608242240316, 'min': 4.238202445416743, 'max': 707852.6403924761}\n",
      "\n",
      "CVaR 5 %: 102.78 (p5 = 189.01)\n",
      "\n",
      "P-valor binomial: 1.0000\n"
     ]
    }
   ],
   "source": [
    "# 2️⃣  Calcula P y R desde df con la nueva función\n",
    "from core.kelly_analysis import (\n",
    "    extraer_parametros_desde_df,\n",
    "    simular_trayectorias_monte_carlo,\n",
    "    calcular_expected_shortfall,\n",
    "    resumen_simulacion,\n",
    "    test_validacion_binomial\n",
    ")\n",
    "\n",
    "P, R, meta = extraer_parametros_desde_df(df)\n",
    "print(f\"P = {P:.4f}  \\nR = {R:.2f}  \\nmeta = {meta}\")\n",
    "\n",
    "# 3️⃣  Decide la fracción de Kelly y lanza Monte Carlo\n",
    "from core.kelly_simulator_v4 import calcular_kelly\n",
    "\n",
    "kelly_puro = calcular_kelly(P, R)\n",
    "f = 1.0                    # 100 % de Kelly\n",
    "n_trades = 100\n",
    "paths = 10_000\n",
    "cap0 = df['equity'].iloc[-1]\n",
    "\n",
    "eq = simular_trayectorias_monte_carlo(P, R, kelly_puro * f,\n",
    "                                      cap0=cap0, n=n_trades, n_paths=paths)\n",
    "\n",
    "print(\"\\nResumen:\", resumen_simulacion(eq))\n",
    "es, p5 = calcular_expected_shortfall(eq)\n",
    "print(f\"\\nCVaR 5 %: {es:.2f} (p5 = {p5:.2f})\")\n",
    "\n",
    "# 4️⃣  Test binomial (opcional, si quieres validar el win-rate)\n",
    "wins = meta['wins']\n",
    "losses = meta['losses']\n",
    "p_val = test_validacion_binomial(wins, losses, p_teorico=P)\n",
    "print(f\"\\nP-valor binomial: {p_val:.4f}\")\n"
   ]
  },
  {
   "cell_type": "markdown",
   "id": "f2956398",
   "metadata": {},
   "source": [
    "# Interpretación científica de las métricas de simulación con estrategia Kelly\n",
    "\n",
    "Este documento explica el significado de las principales variables utilizadas en el análisis cuantitativo de una estrategia de trading basada en el criterio de Kelly. Está dirigido a investigadores, estudiantes y analistas interesados en el modelado probabilístico del riesgo y rendimiento de sistemas de trading.\n",
    "\n",
    "---\n",
    "\n",
    "### Variables fundamentales\n",
    "\n",
    "#### P (win-rate): `P = 0.5283`\n",
    "\n",
    "Es la **probabilidad empírica de acierto**: el cociente entre el número de trades con beneficio (`wins = 28`) y el total de trades (`28 + 25 = 53`). Este valor se interpreta como una estimación puntual de la probabilidad de que un trade resulte positivo.\n",
    "\n",
    "#### R (Win/Loss ratio): `R = 1.23`\n",
    "\n",
    "Representa la **relación entre el beneficio medio de los trades ganadores y la pérdida media de los perdedores**. Es una medida crucial del \"payoff\" relativo y sirve para determinar si una estrategia puede ser rentable incluso con tasas de acierto modestas.\n",
    "\n",
    "#### Meta (información auxiliar):\n",
    "\n",
    "```python\n",
    "{\n",
    "  'wins': 28,\n",
    "  'losses': 25,\n",
    "  'p_mean': 0.5283,\n",
    "  'r_mean': 1.2252\n",
    "}\n",
    "```\n",
    "\n",
    "Valores que resumen el rendimiento histórico, utilizados como entrada para simulaciones posteriores.\n",
    "\n",
    "---\n",
    "\n",
    "### Resultados de la simulación Monte Carlo (10,000 trayectorias)\n",
    "\n",
    "Se simuló la evolución del capital inicial (645 USD) durante 100 operaciones usando la fracción de Kelly teórica.\n",
    "\n",
    "#### Percentiles de capital final:\n",
    "\n",
    "* **p05**: 189.01 → el 5% de los escenarios termina con menos de \\$189.\n",
    "* **p25**: 670.25 → un cuartil está por debajo de este valor.\n",
    "* **p50**: 2376.86 → mediana. Capital más probable tras 100 trades.\n",
    "* **p75**: 6142.24 → el 25% superior supera este valor.\n",
    "* **p95**: 29890.42 → resultados excepcionalmente buenos.\n",
    "\n",
    "#### Media y dispersión:\n",
    "\n",
    "* **mean**: 7498.63 → valor esperado de capital final (sujeto a asimetría).\n",
    "* **std**: 19963.61 → desviación estándar de los capitales finales.\n",
    "* **min**: 4.24 → peor resultado observado (cuasi-ruina).\n",
    "* **max**: 707,852.64 → mejor escenario extremo.\n",
    "\n",
    "---\n",
    "\n",
    "### CVaR (Conditional Value at Risk) al 5%\n",
    "\n",
    "* **p5**: 189.01 → umbral que delimita el peor 5% de escenarios.\n",
    "* **CVaR 5 %**: 102.78 → media del capital final entre los peores casos. Refleja la **pérdida esperada condicional a que ocurra un evento adverso severo**.\n",
    "\n",
    "---\n",
    "\n",
    "### Validación empírica\n",
    "\n",
    "* **Test binomial** con hipótesis nula: `p_real = P`\n",
    "* Resultado: `p_val = 1.0000` → No hay evidencia para rechazar que la tasa de acierto empírica sea igual a la teórica.\n",
    "\n",
    "---\n",
    "\n",
    "### Conclusión\n",
    "\n",
    "La estrategia presenta un perfil de retorno asimétrico con alta dispersión y posibilidad de crecimiento exponencial. Sin embargo, también exhibe escenarios de ruina parcial, como evidenciado por el CVaR. La interpretación de estos resultados debe hacerse considerando el contexto temporal, la estabilidad de la estrategia y su sensibilidad a cambios estructurales del mercado.\n"
   ]
  },
  {
   "cell_type": "code",
   "execution_count": null,
   "id": "1cfbe0e2",
   "metadata": {},
   "outputs": [
    {
     "data": {
      "application/vnd.jupyter.widget-view+json": {
       "model_id": "42b54ab5df684280a228d26429841406",
       "version_major": 2,
       "version_minor": 0
      },
      "text/plain": [
       "VBox(children=(HBox(children=(FloatSlider(value=0.5283018867924528, description='Win %', max=1.0, step=0.001),…"
      ]
     },
     "metadata": {},
     "output_type": "display_data"
    },
    {
     "data": {
      "application/vnd.jupyter.widget-view+json": {
       "model_id": "f5c5e01329c34ce2a9a5a8e940296563",
       "version_major": 2,
       "version_minor": 0
      },
      "text/plain": [
       "Output()"
      ]
     },
     "metadata": {},
     "output_type": "display_data"
    },
    {
     "data": {
      "application/vnd.jupyter.widget-view+json": {
       "model_id": "18a6926da9d14ea8abe35ac6f63c4461",
       "version_major": 2,
       "version_minor": 0
      },
      "text/plain": [
       "Output()"
      ]
     },
     "metadata": {},
     "output_type": "display_data"
    },
    {
     "data": {
      "application/vnd.jupyter.widget-view+json": {
       "model_id": "02fa8138865147cbb836adb90e1a44ba",
       "version_major": 2,
       "version_minor": 0
      },
      "text/plain": [
       "Output()"
      ]
     },
     "metadata": {},
     "output_type": "display_data"
    }
   ],
   "source": [
    "# setup\n",
    "import sys\n",
    "from pathlib import Path\n",
    "sys.path.append(str(Path(\"..\").resolve()))  # si estás en /notebooks\n",
    "\n",
    "# importa funciones desde sus módulos\n",
    "from core.pipeline import process_new_files\n",
    "from core.merger import merge_split_trades\n",
    "\n",
    "\n",
    "# exporta al espacio global\n",
    "import types\n",
    "mod = types.ModuleType(\"core.global_state\")\n",
    "mod.df = df\n",
    "sys.modules[\"core.global_state\"] = mod\n",
    "\n",
    "# carga y ejecuta el simulador\n",
    "import importlib\n",
    "import core.kelly_simulator_v4 as ks\n",
    "importlib.reload(ks)\n",
    "ks.mostrar_interfaz()\n",
    "\n"
   ]
  },
  {
   "cell_type": "code",
   "execution_count": 8,
   "id": "2884a768",
   "metadata": {},
   "outputs": [
    {
     "ename": "NameError",
     "evalue": "name 'P_sl' is not defined",
     "output_type": "error",
     "traceback": [
      "\u001b[31m---------------------------------------------------------------------------\u001b[39m",
      "\u001b[31mNameError\u001b[39m                                 Traceback (most recent call last)",
      "\u001b[36mCell\u001b[39m\u001b[36m \u001b[39m\u001b[32mIn[8]\u001b[39m\u001b[32m, line 7\u001b[39m\n\u001b[32m      4\u001b[39m sys.modules[\u001b[33m\"\u001b[39m\u001b[33mcore.global_state\u001b[39m\u001b[33m\"\u001b[39m] = mod\n\u001b[32m      6\u001b[39m \u001b[38;5;66;03m# 2️⃣  Recargar el simulador (ya actualizado a v-6.3)\u001b[39;00m\n\u001b[32m----> \u001b[39m\u001b[32m7\u001b[39m \u001b[38;5;28;01mimport\u001b[39;00m\u001b[38;5;250m \u001b[39m\u001b[34;01mcore\u001b[39;00m\u001b[34;01m.\u001b[39;00m\u001b[34;01mkelly_simulator_v5\u001b[39;00m\u001b[38;5;250m \u001b[39m\u001b[38;5;28;01mas\u001b[39;00m\u001b[38;5;250m \u001b[39m\u001b[34;01mks\u001b[39;00m\n\u001b[32m      8\u001b[39m importlib.reload(ks)\n\u001b[32m     10\u001b[39m \u001b[38;5;66;03m# 3️⃣  Lanzar la interfaz\u001b[39;00m\n",
      "\u001b[36mFile \u001b[39m\u001b[32m~/Desktop/RIESGO_PERDIDA/core/kelly_simulator_v5.py:171\u001b[39m\n\u001b[32m    166\u001b[39m         plt.xlabel(\u001b[33m\"\u001b[39m\u001b[33mTrade #\u001b[39m\u001b[33m\"\u001b[39m); plt.ylabel(\u001b[33m\"\u001b[39m\u001b[33mCapital\u001b[39m\u001b[33m\"\u001b[39m)\n\u001b[32m    167\u001b[39m         plt.legend(); plt.grid(\u001b[38;5;28;01mTrue\u001b[39;00m); plt.tight_layout(); plt.show()\n\u001b[32m    169\u001b[39m mc_out = interactive_output(\n\u001b[32m    170\u001b[39m     _callback_mc,\n\u001b[32m--> \u001b[39m\u001b[32m171\u001b[39m     \u001b[38;5;28mdict\u001b[39m(P=\u001b[43mP_sl\u001b[49m, R=R_sl, k_frac=K_sl, cap0=Cap_sl,\n\u001b[32m    172\u001b[39m          n_trades=N_sl, n_paths=Paths_sl, Bayes_chk=Bayes_chk, Markov_chk=Markov_chk)\n\u001b[32m    173\u001b[39m )\n\u001b[32m    175\u001b[39m \u001b[38;5;66;03m# Tabs\u001b[39;00m\n\u001b[32m    176\u001b[39m _tabs = Tab(children=[kelly_output, mc_output])\n",
      "\u001b[31mNameError\u001b[39m: name 'P_sl' is not defined"
     ]
    }
   ],
   "source": [
    "\n",
    "import types, sys\n",
    "mod = types.ModuleType(\"core.global_state\")\n",
    "mod.df = df  # ← tu dataframe procesado\n",
    "sys.modules[\"core.global_state\"] = mod\n",
    "\n",
    "# 2️⃣  Recargar el simulador (ya actualizado a v-6.3)\n",
    "import core.kelly_simulator_v5 as ks\n",
    "importlib.reload(ks)\n",
    "\n",
    "# 3️⃣  Lanzar la interfaz\n",
    "ks.mostrar_interfaz()\n"
   ]
  }
 ],
 "metadata": {
  "kernelspec": {
   "display_name": "trading_env",
   "language": "python",
   "name": "python3"
  },
  "language_info": {
   "codemirror_mode": {
    "name": "ipython",
    "version": 3
   },
   "file_extension": ".py",
   "mimetype": "text/x-python",
   "name": "python",
   "nbconvert_exporter": "python",
   "pygments_lexer": "ipython3",
   "version": "3.11.6"
  }
 },
 "nbformat": 4,
 "nbformat_minor": 5
}
