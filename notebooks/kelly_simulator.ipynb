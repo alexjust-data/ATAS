{
 "cells": [
  {
   "cell_type": "code",
   "execution_count": 15,
   "id": "4571dd8d",
   "metadata": {},
   "outputs": [
    {
     "name": "stderr",
     "output_type": "stream",
     "text": [
      "INFO: 📦 Total trades cargados: 72\n",
      "INFO: 💾 Datos guardados en PostgreSQL (trades).\n",
      "INFO: ✅ Procesados 62 trades en total.\n"
     ]
    },
    {
     "name": "stdout",
     "output_type": "stream",
     "text": [
      "                                                       0  \\\n",
      "trade_id                                               1   \n",
      "entry_time                           2025-06-16 09:32:54   \n",
      "exit_time                            2025-06-16 09:49:16   \n",
      "asset                                          MESM5@CME   \n",
      "entry_price                                       6022.0   \n",
      "exit_price                                        6033.5   \n",
      "position_size                                          3   \n",
      "PnL                                               -172.5   \n",
      "PnL_net                                           -172.5   \n",
      "commission                                             0   \n",
      "account                                   APEX-298755-19   \n",
      "exchange                                             CME   \n",
      "direction                                           Sell   \n",
      "order_id_entry                                   1053256   \n",
      "order_id_exit                                    1071398   \n",
      "source_file       ATAS_statistics_16062025_17062025.xlsx   \n",
      "duration_minutes                               16.366667   \n",
      "equity                                             246.5   \n",
      "components                                           [1]   \n",
      "n_components                                           1   \n",
      "is_fragmented                                      False   \n",
      "\n",
      "                                                       1  \\\n",
      "trade_id                                               2   \n",
      "entry_time                    2025-06-17 09:42:40.222000   \n",
      "exit_time                     2025-06-17 09:52:31.223000   \n",
      "asset                                          MESU5@CME   \n",
      "entry_price                                      6061.25   \n",
      "exit_price                                        6072.0   \n",
      "position_size                                          1   \n",
      "PnL                                               -53.75   \n",
      "PnL_net                                           -53.75   \n",
      "commission                                             0   \n",
      "account                                   APEX-298755-19   \n",
      "exchange                                             CME   \n",
      "direction                                           Sell   \n",
      "order_id_entry                                   1325595   \n",
      "order_id_exit                                    1338994   \n",
      "source_file       ATAS_statistics_16062025_17062025.xlsx   \n",
      "duration_minutes                                9.850017   \n",
      "equity                                            192.75   \n",
      "components                                           [2]   \n",
      "n_components                                           1   \n",
      "is_fragmented                                      False   \n",
      "\n",
      "                                                       2  \\\n",
      "trade_id                                               3   \n",
      "entry_time                    2025-06-17 09:57:28.706000   \n",
      "exit_time                     2025-06-17 10:13:14.672000   \n",
      "asset                                          MNQU5@CME   \n",
      "entry_price                                     22088.25   \n",
      "exit_price                                      22118.25   \n",
      "position_size                                          2   \n",
      "PnL                                                120.0   \n",
      "PnL_net                                            120.0   \n",
      "commission                                             0   \n",
      "account                                   APEX-298755-19   \n",
      "exchange                                             CME   \n",
      "direction                                            Buy   \n",
      "order_id_entry                                   1345448   \n",
      "order_id_exit                                    1363236   \n",
      "source_file       ATAS_statistics_16062025_17062025.xlsx   \n",
      "duration_minutes                                 15.7661   \n",
      "equity                                            312.75   \n",
      "components                                           [3]   \n",
      "n_components                                           1   \n",
      "is_fragmented                                      False   \n",
      "\n",
      "                                                       3  \\\n",
      "trade_id                                               4   \n",
      "entry_time                    2025-06-17 09:57:28.706000   \n",
      "exit_time                     2025-06-17 10:13:14.672000   \n",
      "asset                                          MNQU5@CME   \n",
      "entry_price                                      22088.5   \n",
      "exit_price                                      22118.25   \n",
      "position_size                                          1   \n",
      "PnL                                                 59.5   \n",
      "PnL_net                                             59.5   \n",
      "commission                                             0   \n",
      "account                                   APEX-298755-19   \n",
      "exchange                                             CME   \n",
      "direction                                            Buy   \n",
      "order_id_entry                                   1345449   \n",
      "order_id_exit                                    1363236   \n",
      "source_file       ATAS_statistics_16062025_17062025.xlsx   \n",
      "duration_minutes                                 15.7661   \n",
      "equity                                            372.25   \n",
      "components                                           [4]   \n",
      "n_components                                           1   \n",
      "is_fragmented                                      False   \n",
      "\n",
      "                                                       4  \n",
      "trade_id                                               5  \n",
      "entry_time                    2025-06-17 13:00:50.167000  \n",
      "exit_time                     2025-06-17 13:04:31.135000  \n",
      "asset                                          MNQU5@CME  \n",
      "entry_price                                      22019.5  \n",
      "exit_price                                       22048.5  \n",
      "position_size                                          1  \n",
      "PnL                                                 58.0  \n",
      "PnL_net                                             58.0  \n",
      "commission                                             0  \n",
      "account                                   APEX-298755-19  \n",
      "exchange                                             CME  \n",
      "direction                                            Buy  \n",
      "order_id_entry                                   1455248  \n",
      "order_id_exit                                    1454760  \n",
      "source_file       ATAS_statistics_16062025_17062025.xlsx  \n",
      "duration_minutes                                  3.6828  \n",
      "equity                                            430.25  \n",
      "components                                           [5]  \n",
      "n_components                                           1  \n",
      "is_fragmented                                      False  \n"
     ]
    }
   ],
   "source": [
    "from core import process_new_files, daily_summary_from_hist   \n",
    "\n",
    "df_raw = process_new_files( # te pedirá el capital inicial en ventana emergente\n",
    "    merge_fragments=False, \n",
    "    verbose=True)\n",
    "\n",
    "# QA : Quality Assurance\n",
    "from core.qa import check_integrity\n",
    "#check_integrity(df_raw)\n",
    "\n",
    "print(df_raw.head().T)"
   ]
  },
  {
   "cell_type": "code",
   "execution_count": 17,
   "id": "ff304e60",
   "metadata": {},
   "outputs": [
    {
     "name": "stderr",
     "output_type": "stream",
     "text": [
      "INFO: 💾 Datos guardados en PostgreSQL (trades).\n"
     ]
    },
    {
     "name": "stdout",
     "output_type": "stream",
     "text": [
      "                                                       0  \\\n",
      "entry_time                           2025-06-09 12:50:30   \n",
      "exit_time                            2025-06-09 12:51:00   \n",
      "asset                                          MNQM5@CME   \n",
      "direction                                           Sell   \n",
      "entry_price                                     21860.25   \n",
      "exit_price                                      21867.75   \n",
      "position_size                                          4   \n",
      "PnL                                                -60.0   \n",
      "PnL_net                                            -60.0   \n",
      "commission                                             0   \n",
      "order_id_entry                                   1232061   \n",
      "order_id_exit                                    1235556   \n",
      "account                                   APEX-298755-19   \n",
      "exchange                                             CME   \n",
      "source_file       ATAS_statistics_08062025_30062025.xlsx   \n",
      "components                                          [11]   \n",
      "duration_minutes                                     0.5   \n",
      "trade_id                                               1   \n",
      "equity                                             359.0   \n",
      "n_components                                           1   \n",
      "is_fragmented                                      False   \n",
      "\n",
      "                                                       1  \\\n",
      "entry_time                           2025-06-09 12:53:19   \n",
      "exit_time                            2025-06-09 12:56:48   \n",
      "asset                                          MNQM5@CME   \n",
      "direction                                           Sell   \n",
      "entry_price                                     21878.75   \n",
      "exit_price                                      21868.75   \n",
      "position_size                                          1   \n",
      "PnL                                                 20.0   \n",
      "PnL_net                                             20.0   \n",
      "commission                                             0   \n",
      "order_id_entry                                   1232945   \n",
      "order_id_exit                                    1232668   \n",
      "account                                   APEX-298755-19   \n",
      "exchange                                             CME   \n",
      "source_file       ATAS_statistics_08062025_30062025.xlsx   \n",
      "components                                          [12]   \n",
      "duration_minutes                                3.483333   \n",
      "trade_id                                               2   \n",
      "equity                                             379.0   \n",
      "n_components                                           1   \n",
      "is_fragmented                                      False   \n",
      "\n",
      "                                                       2  \\\n",
      "entry_time                           2025-06-09 13:09:33   \n",
      "exit_time                            2025-06-09 13:32:58   \n",
      "asset                                          MESM5@CME   \n",
      "direction                                           Sell   \n",
      "entry_price                                      6023.75   \n",
      "exit_price                                        6023.0   \n",
      "position_size                                          1   \n",
      "PnL                                                 3.75   \n",
      "PnL_net                                             3.75   \n",
      "commission                                             0   \n",
      "order_id_entry                                   1237513   \n",
      "order_id_exit                                    1250737   \n",
      "account                                   APEX-298755-19   \n",
      "exchange                                             CME   \n",
      "source_file       ATAS_statistics_08062025_30062025.xlsx   \n",
      "components                                          [13]   \n",
      "duration_minutes                               23.416667   \n",
      "trade_id                                               3   \n",
      "equity                                            382.75   \n",
      "n_components                                           1   \n",
      "is_fragmented                                      False   \n",
      "\n",
      "                                                       3  \\\n",
      "entry_time                           2025-06-09 13:44:35   \n",
      "exit_time                            2025-06-09 14:56:25   \n",
      "asset                                          MESM5@CME   \n",
      "direction                                           Sell   \n",
      "entry_price                                      6025.25   \n",
      "exit_price                                        6025.0   \n",
      "position_size                                          1   \n",
      "PnL                                                 1.25   \n",
      "PnL_net                                             1.25   \n",
      "commission                                             0   \n",
      "order_id_entry                                   1256499   \n",
      "order_id_exit                                    1284448   \n",
      "account                                   APEX-298755-19   \n",
      "exchange                                             CME   \n",
      "source_file       ATAS_statistics_08062025_30062025.xlsx   \n",
      "components                                          [15]   \n",
      "duration_minutes                               71.833333   \n",
      "trade_id                                               4   \n",
      "equity                                             384.0   \n",
      "n_components                                           1   \n",
      "is_fragmented                                      False   \n",
      "\n",
      "                                                       4  \n",
      "entry_time                           2025-06-09 13:48:15  \n",
      "exit_time                            2025-06-09 14:05:04  \n",
      "asset                                          MNQM5@CME  \n",
      "direction                                           Sell  \n",
      "entry_price                                     21874.75  \n",
      "exit_price                                      21859.75  \n",
      "position_size                                          1  \n",
      "PnL                                                 30.0  \n",
      "PnL_net                                             30.0  \n",
      "commission                                             0  \n",
      "order_id_entry                                   1256749  \n",
      "order_id_exit                                    1261461  \n",
      "account                                   APEX-298755-19  \n",
      "exchange                                             CME  \n",
      "source_file       ATAS_statistics_08062025_30062025.xlsx  \n",
      "components                                          [14]  \n",
      "duration_minutes                               16.816667  \n",
      "trade_id                                               5  \n",
      "equity                                             414.0  \n",
      "n_components                                           1  \n",
      "is_fragmented                                      False  \n"
     ]
    }
   ],
   "source": [
    "from core.merger import merge_split_trades\n",
    "from core.io_utils import save_to_csv, save_to_postgres\n",
    "from core.summary import daily_summary_from_hist\n",
    "\n",
    "\n",
    "df = merge_split_trades(df_raw)\n",
    "print(df.head().T)\n",
    "\n",
    "# 2️⃣  Guardas el DataFrame en un CSV y en Postgres\n",
    "# output/trades_hist.csv\n",
    "save_to_csv(df)\n",
    "save_to_postgres(df)"
   ]
  },
  {
   "cell_type": "code",
   "execution_count": 3,
   "id": "5d75d354",
   "metadata": {},
   "outputs": [
    {
     "name": "stdout",
     "output_type": "stream",
     "text": [
      "\n",
      "Trades totales : 53\n",
      "Número de trades fragmentados: 5\n",
      "Win-rate       : 0.5283018867924528\n",
      "Profit factor  : 1.37227478403949\n",
      "Drawdown máx % : 0.2973262032085562\n",
      "Total PnL_net   : 226.25\n",
      "Última equity   : 645.25\n"
     ]
    },
    {
     "data": {
      "text/html": [
       "<div>\n",
       "<style scoped>\n",
       "    .dataframe tbody tr th:only-of-type {\n",
       "        vertical-align: middle;\n",
       "    }\n",
       "\n",
       "    .dataframe tbody tr th {\n",
       "        vertical-align: top;\n",
       "    }\n",
       "\n",
       "    .dataframe thead th {\n",
       "        text-align: right;\n",
       "    }\n",
       "</style>\n",
       "<table border=\"1\" class=\"dataframe\">\n",
       "  <thead>\n",
       "    <tr style=\"text-align: right;\">\n",
       "      <th></th>\n",
       "      <th>day</th>\n",
       "      <th>total_trades</th>\n",
       "      <th>net_pnl</th>\n",
       "      <th>win_rate</th>\n",
       "      <th>fragmented_trades</th>\n",
       "      <th>fragmented_ids</th>\n",
       "      <th>profit_factor</th>\n",
       "    </tr>\n",
       "  </thead>\n",
       "  <tbody>\n",
       "    <tr>\n",
       "      <th>0</th>\n",
       "      <td>2025-06-09</td>\n",
       "      <td>11</td>\n",
       "      <td>-81.00</td>\n",
       "      <td>0.545455</td>\n",
       "      <td>3</td>\n",
       "      <td>[2, 4, 5]</td>\n",
       "      <td>NaN</td>\n",
       "    </tr>\n",
       "    <tr>\n",
       "      <th>1</th>\n",
       "      <td>2025-06-10</td>\n",
       "      <td>9</td>\n",
       "      <td>204.50</td>\n",
       "      <td>0.555556</td>\n",
       "      <td>1</td>\n",
       "      <td>[13]</td>\n",
       "      <td>NaN</td>\n",
       "    </tr>\n",
       "    <tr>\n",
       "      <th>2</th>\n",
       "      <td>2025-06-11</td>\n",
       "      <td>12</td>\n",
       "      <td>100.75</td>\n",
       "      <td>0.666667</td>\n",
       "      <td>0</td>\n",
       "      <td>[]</td>\n",
       "      <td>NaN</td>\n",
       "    </tr>\n",
       "    <tr>\n",
       "      <th>3</th>\n",
       "      <td>2025-06-12</td>\n",
       "      <td>11</td>\n",
       "      <td>-144.50</td>\n",
       "      <td>0.272727</td>\n",
       "      <td>1</td>\n",
       "      <td>[36]</td>\n",
       "      <td>NaN</td>\n",
       "    </tr>\n",
       "    <tr>\n",
       "      <th>4</th>\n",
       "      <td>2025-06-13</td>\n",
       "      <td>10</td>\n",
       "      <td>146.50</td>\n",
       "      <td>0.600000</td>\n",
       "      <td>0</td>\n",
       "      <td>[]</td>\n",
       "      <td>NaN</td>\n",
       "    </tr>\n",
       "    <tr>\n",
       "      <th>5</th>\n",
       "      <td>TOTAL</td>\n",
       "      <td>53</td>\n",
       "      <td>226.25</td>\n",
       "      <td>0.528302</td>\n",
       "      <td>5</td>\n",
       "      <td>[2, 4, 5, 13, 36]</td>\n",
       "      <td>1.372275</td>\n",
       "    </tr>\n",
       "  </tbody>\n",
       "</table>\n",
       "</div>"
      ],
      "text/plain": [
       "          day  total_trades  net_pnl  win_rate  fragmented_trades  \\\n",
       "0  2025-06-09            11   -81.00  0.545455                  3   \n",
       "1  2025-06-10             9   204.50  0.555556                  1   \n",
       "2  2025-06-11            12   100.75  0.666667                  0   \n",
       "3  2025-06-12            11  -144.50  0.272727                  1   \n",
       "4  2025-06-13            10   146.50  0.600000                  0   \n",
       "5       TOTAL            53   226.25  0.528302                  5   \n",
       "\n",
       "      fragmented_ids  profit_factor  \n",
       "0          [2, 4, 5]            NaN  \n",
       "1               [13]            NaN  \n",
       "2                 []            NaN  \n",
       "3               [36]            NaN  \n",
       "4                 []            NaN  \n",
       "5  [2, 4, 5, 13, 36]       1.372275  "
      ]
     },
     "execution_count": 3,
     "metadata": {},
     "output_type": "execute_result"
    }
   ],
   "source": [
    "# Métricas globales rápidas\n",
    "df_summary = daily_summary_from_hist(df)\n",
    "\n",
    "total_fragmented = df[\"components\"].apply(len).gt(1).sum() if \"components\" in df.columns else 0\n",
    "\n",
    "print(\"\\nTrades totales :\", len(df))\n",
    "print(f\"Número de trades fragmentados: {total_fragmented}\")\n",
    "print(\"Win-rate       :\", (df['PnL_net'] > 0).mean())\n",
    "print(\"Profit factor  :\", df.loc[df['PnL_net'] > 0, 'PnL_net'].sum() /\n",
    "                          df.loc[df['PnL_net'] < 0, 'PnL_net'].abs().sum())\n",
    "print(\"Drawdown máx % :\", 1 - df['equity'].div(df['equity'].cummax()).min())\n",
    "print(\"Total PnL_net   :\", df['PnL_net'].sum())\n",
    "print(\"Última equity   :\", df['equity'].iloc[-1])\n",
    "\n",
    "df_summary"
   ]
  },
  {
   "cell_type": "code",
   "execution_count": 4,
   "id": "440b1072",
   "metadata": {},
   "outputs": [
    {
     "name": "stdout",
     "output_type": "stream",
     "text": [
      "P = 0.5283  \n",
      "R = 1.23  \n",
      "meta = {'wins': 28, 'losses': 25, 'p_mean': np.float64(0.5283018867924528), 'r_mean': np.float64(1.2252453428924017)}\n"
     ]
    },
    {
     "name": "stdout",
     "output_type": "stream",
     "text": [
      "\n",
      "Resumen: {'p05': 189.00561011145757, 'p25': 670.2534030572355, 'p50': 2376.8586765487275, 'p75': 6142.23756201655, 'p95': 29890.42052748302, 'mean': 7498.633586266826, 'std': 19963.608242240316, 'min': 4.238202445416743, 'max': 707852.6403924761}\n",
      "\n",
      "CVaR 5 %: 102.78 (p5 = 189.01)\n",
      "\n",
      "P-valor binomial: 1.0000\n"
     ]
    }
   ],
   "source": [
    "# 2️⃣  Calcula P y R desde df con la nueva función\n",
    "from core.kelly_analysis import (\n",
    "    extraer_parametros_desde_df,\n",
    "    simular_trayectorias_monte_carlo,\n",
    "    calcular_expected_shortfall,\n",
    "    resumen_simulacion,\n",
    "    test_validacion_binomial\n",
    ")\n",
    "\n",
    "P, R, meta = extraer_parametros_desde_df(df)\n",
    "print(f\"P = {P:.4f}  \\nR = {R:.2f}  \\nmeta = {meta}\")\n",
    "\n",
    "# 3️⃣  Decide la fracción de Kelly y lanza Monte Carlo\n",
    "from core.kelly_simulator_v4 import calcular_kelly\n",
    "\n",
    "kelly_puro = calcular_kelly(P, R)\n",
    "f = 1.0                    # 100 % de Kelly\n",
    "n_trades = 100\n",
    "paths = 10_000\n",
    "cap0 = df['equity'].iloc[-1]\n",
    "\n",
    "eq = simular_trayectorias_monte_carlo(P, R, kelly_puro * f,\n",
    "                                      cap0=cap0, n=n_trades, n_paths=paths)\n",
    "\n",
    "print(\"\\nResumen:\", resumen_simulacion(eq))\n",
    "es, p5 = calcular_expected_shortfall(eq)\n",
    "print(f\"\\nCVaR 5 %: {es:.2f} (p5 = {p5:.2f})\")\n",
    "\n",
    "# 4️⃣  Test binomial (opcional, si quieres validar el win-rate)\n",
    "wins = meta['wins']\n",
    "losses = meta['losses']\n",
    "p_val = test_validacion_binomial(wins, losses, p_teorico=P)\n",
    "print(f\"\\nP-valor binomial: {p_val:.4f}\")\n"
   ]
  },
  {
   "cell_type": "markdown",
   "id": "f2956398",
   "metadata": {},
   "source": [
    "# Interpretación científica de las métricas de simulación con estrategia Kelly\n",
    "\n",
    "Este documento explica el significado de las principales variables utilizadas en el análisis cuantitativo de una estrategia de trading basada en el criterio de Kelly. Está dirigido a investigadores, estudiantes y analistas interesados en el modelado probabilístico del riesgo y rendimiento de sistemas de trading.\n",
    "\n",
    "---\n",
    "\n",
    "### Variables fundamentales\n",
    "\n",
    "#### P (win-rate): `P = 0.5283`\n",
    "\n",
    "Es la **probabilidad empírica de acierto**: el cociente entre el número de trades con beneficio (`wins = 28`) y el total de trades (`28 + 25 = 53`). Este valor se interpreta como una estimación puntual de la probabilidad de que un trade resulte positivo.\n",
    "\n",
    "#### R (Win/Loss ratio): `R = 1.23`\n",
    "\n",
    "Representa la **relación entre el beneficio medio de los trades ganadores y la pérdida media de los perdedores**. Es una medida crucial del \"payoff\" relativo y sirve para determinar si una estrategia puede ser rentable incluso con tasas de acierto modestas.\n",
    "\n",
    "#### Meta (información auxiliar):\n",
    "\n",
    "```python\n",
    "{\n",
    "  'wins': 28,\n",
    "  'losses': 25,\n",
    "  'p_mean': 0.5283,\n",
    "  'r_mean': 1.2252\n",
    "}\n",
    "```\n",
    "\n",
    "Valores que resumen el rendimiento histórico, utilizados como entrada para simulaciones posteriores.\n",
    "\n",
    "---\n",
    "\n",
    "### Resultados de la simulación Monte Carlo (10,000 trayectorias)\n",
    "\n",
    "Se simuló la evolución del capital inicial (645 USD) durante 100 operaciones usando la fracción de Kelly teórica.\n",
    "\n",
    "#### Percentiles de capital final:\n",
    "\n",
    "* **p05**: 189.01 → el 5% de los escenarios termina con menos de \\$189.\n",
    "* **p25**: 670.25 → un cuartil está por debajo de este valor.\n",
    "* **p50**: 2376.86 → mediana. Capital más probable tras 100 trades.\n",
    "* **p75**: 6142.24 → el 25% superior supera este valor.\n",
    "* **p95**: 29890.42 → resultados excepcionalmente buenos.\n",
    "\n",
    "#### Media y dispersión:\n",
    "\n",
    "* **mean**: 7498.63 → valor esperado de capital final (sujeto a asimetría).\n",
    "* **std**: 19963.61 → desviación estándar de los capitales finales.\n",
    "* **min**: 4.24 → peor resultado observado (cuasi-ruina).\n",
    "* **max**: 707,852.64 → mejor escenario extremo.\n",
    "\n",
    "---\n",
    "\n",
    "### CVaR (Conditional Value at Risk) al 5%\n",
    "\n",
    "* **p5**: 189.01 → umbral que delimita el peor 5% de escenarios.\n",
    "* **CVaR 5 %**: 102.78 → media del capital final entre los peores casos. Refleja la **pérdida esperada condicional a que ocurra un evento adverso severo**.\n",
    "\n",
    "---\n",
    "\n",
    "### Validación empírica\n",
    "\n",
    "* **Test binomial** con hipótesis nula: `p_real = P`\n",
    "* Resultado: `p_val = 1.0000` → No hay evidencia para rechazar que la tasa de acierto empírica sea igual a la teórica.\n",
    "\n",
    "---\n",
    "\n",
    "### Conclusión\n",
    "\n",
    "La estrategia presenta un perfil de retorno asimétrico con alta dispersión y posibilidad de crecimiento exponencial. Sin embargo, también exhibe escenarios de ruina parcial, como evidenciado por el CVaR. La interpretación de estos resultados debe hacerse considerando el contexto temporal, la estabilidad de la estrategia y su sensibilidad a cambios estructurales del mercado.\n"
   ]
  },
  {
   "cell_type": "code",
   "execution_count": 1,
   "id": "45f8db35",
   "metadata": {},
   "outputs": [
    {
     "ename": "AttributeError",
     "evalue": "'NoneType' object has no attribute 'columns'",
     "output_type": "error",
     "traceback": [
      "\u001b[31m---------------------------------------------------------------------------\u001b[39m",
      "\u001b[31mAttributeError\u001b[39m                            Traceback (most recent call last)",
      "\u001b[36mCell\u001b[39m\u001b[36m \u001b[39m\u001b[32mIn[1]\u001b[39m\u001b[32m, line 2\u001b[39m\n\u001b[32m      1\u001b[39m \u001b[38;5;28;01mimport\u001b[39;00m\u001b[38;5;250m \u001b[39m\u001b[34;01mcore\u001b[39;00m\u001b[34;01m.\u001b[39;00m\u001b[34;01mglobal_state\u001b[39;00m\u001b[38;5;250m \u001b[39m\u001b[38;5;28;01mas\u001b[39;00m\u001b[38;5;250m \u001b[39m\u001b[34;01mgs\u001b[39;00m\n\u001b[32m----> \u001b[39m\u001b[32m2\u001b[39m \u001b[43mgs\u001b[49m\u001b[43m.\u001b[49m\u001b[43mdf\u001b[49m\u001b[43m.\u001b[49m\u001b[43mcolumns\u001b[49m\n",
      "\u001b[31mAttributeError\u001b[39m: 'NoneType' object has no attribute 'columns'"
     ]
    }
   ],
   "source": [
    "import core.global_state as gs\n",
    "gs.df.columns\n"
   ]
  },
  {
   "cell_type": "code",
   "execution_count": 2,
   "id": "42a8fd70",
   "metadata": {},
   "outputs": [
    {
     "name": "stdout",
     "output_type": "stream",
     "text": [
      "⚠️  Falling back to defaults: No DataFrame válido en global_state\n",
      "⚠️  Falling back to defaults: No DataFrame válido en global_state\n"
     ]
    },
    {
     "data": {
      "application/vnd.jupyter.widget-view+json": {
       "model_id": "80ff2039c05746739cb621e61f6c814c",
       "version_major": 2,
       "version_minor": 0
      },
      "text/plain": [
       "VBox(children=(HBox(children=(FloatSlider(value=0.69, description='Win %', max=1.0, step=0.001), FloatSlider(v…"
      ]
     },
     "metadata": {},
     "output_type": "display_data"
    }
   ],
   "source": [
    "import importlib\n",
    "import core.kelly_simulator_v4_1 as ks\n",
    "importlib.reload(ks)\n",
    "\n",
    "ks.mostrar_interfaz()"
   ]
  },
  {
   "cell_type": "code",
   "execution_count": 6,
   "id": "a37312d5",
   "metadata": {},
   "outputs": [],
   "source": [
    "from core.utils import load_df_for_analysis\n",
    "import core.global_state as state\n",
    "\n",
    "state.df = load_df_for_analysis()\n"
   ]
  },
  {
   "cell_type": "code",
   "execution_count": null,
   "id": "c3ea035f",
   "metadata": {},
   "outputs": [
    {
     "data": {
      "application/vnd.jupyter.widget-view+json": {
       "model_id": "86207c00fe3e4911a3095e40c750655b",
       "version_major": 2,
       "version_minor": 0
      },
      "text/plain": [
       "VBox(children=(HBox(children=(FloatSlider(value=0.55, description='P', max=0.8, min=0.4, step=0.01), FloatSlid…"
      ]
     },
     "metadata": {},
     "output_type": "display_data"
    }
   ],
   "source": [
    "from core.kelly.simulator import mostrar_interfaz\n",
    "mostrar_interfaz()\n"
   ]
  },
  {
   "cell_type": "code",
   "execution_count": null,
   "id": "1cfbe0e2",
   "metadata": {},
   "outputs": [
    {
     "data": {
      "application/vnd.jupyter.widget-view+json": {
       "model_id": "7fd991da9aa94ed7b1f7727431bc34fb",
       "version_major": 2,
       "version_minor": 0
      },
      "text/plain": [
       "VBox(children=(HBox(children=(FloatSlider(value=0.5283018867924528, description='Win %', max=1.0, step=0.001),…"
      ]
     },
     "metadata": {},
     "output_type": "display_data"
    },
    {
     "data": {
      "application/vnd.jupyter.widget-view+json": {
       "model_id": "a0bfecc2d69f490f820153971a2b29e2",
       "version_major": 2,
       "version_minor": 0
      },
      "text/plain": [
       "Output()"
      ]
     },
     "metadata": {},
     "output_type": "display_data"
    },
    {
     "data": {
      "application/vnd.jupyter.widget-view+json": {
       "model_id": "58bd7703cbf74c3fa1b8d182ee84f318",
       "version_major": 2,
       "version_minor": 0
      },
      "text/plain": [
       "Output()"
      ]
     },
     "metadata": {},
     "output_type": "display_data"
    },
    {
     "data": {
      "application/vnd.jupyter.widget-view+json": {
       "model_id": "b099007ff6764474b842f1533af107ed",
       "version_major": 2,
       "version_minor": 0
      },
      "text/plain": [
       "Output()"
      ]
     },
     "metadata": {},
     "output_type": "display_data"
    }
   ],
   "source": [
    "\n",
    "# carga y ejecuta el simulador\n",
    "import importlib\n",
    "import core.kelly_simulator_v4 as ks\n",
    "importlib.reload(ks)\n",
    "ks.mostrar_interfaz()"
   ]
  },
  {
   "cell_type": "code",
   "execution_count": null,
   "id": "2884a768",
   "metadata": {},
   "outputs": [
    {
     "data": {
      "application/vnd.jupyter.widget-view+json": {
       "model_id": "78e013fc2ffe49b68e8a9667645a8daf",
       "version_major": 2,
       "version_minor": 0
      },
      "text/plain": [
       "VBox(children=(HBox(children=(FloatSlider(value=0.55, description='Win %', max=0.8, min=0.3, step=0.01), Float…"
      ]
     },
     "metadata": {},
     "output_type": "display_data"
    }
   ],
   "source": [
    "\n",
    "import core.kelly_simulator_v5 as ks\n",
    "importlib.reload(ks)\n",
    "\n",
    "# 3️⃣  Lanzar la interfaz\n",
    "ks.mostrar_interfaz()\n"
   ]
  }
 ],
 "metadata": {
  "kernelspec": {
   "display_name": "trading_env",
   "language": "python",
   "name": "python3"
  },
  "language_info": {
   "codemirror_mode": {
    "name": "ipython",
    "version": 3
   },
   "file_extension": ".py",
   "mimetype": "text/x-python",
   "name": "python",
   "nbconvert_exporter": "python",
   "pygments_lexer": "ipython3",
   "version": "3.11.6"
  }
 },
 "nbformat": 4,
 "nbformat_minor": 5
}
