{
 "cells": [
  {
   "cell_type": "markdown",
   "id": "728adbb3",
   "metadata": {},
   "source": [
    "# 📈 Equity Curve Simulator - Mathematical Documentation\n",
    "\n",
    "This Jupyter notebook explains the mathematical foundations of the **Equity Curve Simulator**. It simulates the evolution of a trading account based on:\n",
    "- A starting capital\n",
    "- Win probability\n",
    "- Win/loss ratio\n",
    "- Risk per trade\n",
    "- Number of trades\n",
    "- Multiple simulation paths\n",
    "\n"
   ]
  },
  {
   "cell_type": "markdown",
   "id": "1d52aef2",
   "metadata": {},
   "source": [
    "## 📊 Mathematical Formulas\n",
    "\n",
    "Let:\n",
    "- $E_0$ be the starting equity\n",
    "- $r$ be the risk per trade (as a fraction of equity)\n",
    "- $p$ be the win probability\n",
    "- $R$ be the win/loss ratio\n",
    "- $N$ be the number of trades\n",
    "- $S$ be the number of simulation paths\n",
    "\n",
    "### Trade Outcome\n",
    "Each trade $T_i$ is simulated as:\n",
    "\n",
    "\n",
    "$$\n",
    "T_i = \n",
    "\\begin{cases}\n",
    "+ r \\cdot R & \\text{con probabilidad } p \\\\\n",
    "- r         & \\text{con probabilidad } (1 - p)\n",
    "\\end{cases}\n",
    "$$\n",
    "\n",
    "\n",
    "The equity after trade $i$ is calculated multiplicatively:\n",
    "\n",
    "$$\n",
    "E_i = E_{i-1} \\cdot (1 + T_i)\n",
    "$$\n",
    "\n",
    "\n",
    "This results in a stochastic equity curve over $N$ steps.\n"
   ]
  },
  {
   "cell_type": "code",
   "execution_count": null,
   "id": "48054990",
   "metadata": {},
   "outputs": [
    {
     "ename": "",
     "evalue": "",
     "output_type": "error",
     "traceback": [
      "\u001b[1;31mRunning cells with 'Python 3.12.3' requires the ipykernel package.\n",
      "\u001b[1;31mInstall 'ipykernel' into the Python environment. \n",
      "\u001b[1;31mCommand: '/usr/local/bin/python3.12 -m pip install ipykernel -U --user --force-reinstall'"
     ]
    }
   ],
   "source": [
    "import numpy as np\n",
    "import matplotlib.pyplot as plt\n",
    "\n",
    "np.random.seed(42)\n"
   ]
  },
  {
   "cell_type": "code",
   "execution_count": null,
   "id": "77ffdffb",
   "metadata": {},
   "outputs": [
    {
     "ename": "",
     "evalue": "",
     "output_type": "error",
     "traceback": [
      "\u001b[1;31mRunning cells with 'Python 3.12.3' requires the ipykernel package.\n",
      "\u001b[1;31m<a href='command:jupyter.createPythonEnvAndSelectController'>Create a Python Environment</a> with the required packages.\n",
      "\u001b[1;31mOr install 'ipykernel' using the command: '/usr/local/bin/python3.12 -m pip install ipykernel -U --user --force-reinstall'"
     ]
    }
   ],
   "source": [
    "def simulate_equity_curve(start_equity, win_prob, win_loss_ratio, risk_per_trade, num_trades):\n",
    "    equity = [start_equity]\n",
    "    for _ in range(num_trades):\n",
    "        if np.random.rand() < win_prob:\n",
    "            profit = risk_per_trade * win_loss_ratio\n",
    "        else:\n",
    "            profit = -risk_per_trade\n",
    "        new_equity = equity[-1] * (1 + profit)\n",
    "        equity.append(new_equity)\n",
    "    return equity\n"
   ]
  },
  {
   "cell_type": "code",
   "execution_count": null,
   "id": "3177a61c",
   "metadata": {},
   "outputs": [],
   "source": [
    "start_equity = 3000\n",
    "win_prob = 0.45\n",
    "win_loss_ratio = 2\n",
    "risk_per_trade = 0.05\n",
    "num_trades = 100\n",
    "num_simulations = 5\n",
    "\n",
    "plt.figure(figsize=(12, 6))\n",
    "for _ in range(num_simulations):\n",
    "    curve = simulate_equity_curve(start_equity, win_prob, win_loss_ratio, risk_per_trade, num_trades)\n",
    "    plt.plot(curve, alpha=0.8)\n",
    "\n",
    "plt.title(\"Simulated Equity Curves\")\n",
    "plt.xlabel(\"Number of Trades\")\n",
    "plt.ylabel(\"Equity (€)\")\n",
    "plt.grid(True)\n",
    "plt.show()\n"
   ]
  }
 ],
 "metadata": {
  "kernelspec": {
   "display_name": "Python 3",
   "language": "python",
   "name": "python3"
  },
  "language_info": {
   "codemirror_mode": {
    "name": "ipython",
    "version": 3
   },
   "file_extension": ".py",
   "mimetype": "text/x-python",
   "name": "python",
   "nbconvert_exporter": "python",
   "pygments_lexer": "ipython3",
   "version": "3.12.3"
  }
 },
 "nbformat": 4,
 "nbformat_minor": 5
}
